{
 "cells": [
  {
   "cell_type": "code",
   "execution_count": null,
   "id": "a551abf4-70f7-4775-9be7-1c8ec6814592",
   "metadata": {},
   "outputs": [],
   "source": [
    "#exercice2 resoudre ax^2+bx+c=0\n",
    "import math\n",
    "# a=int(input(\"saisir a:\"))\n",
    "# b=int(input(\"saisir b:\"))\n",
    "# c=int(input(\"saisir c:\"))\n",
    "\n",
    "# D=b*b-4*a*c #b**2-4*a*c\n",
    "\n",
    "# if D<0:\n",
    "#     print(\"pas de solution reel\")\n",
    "# elif D==0:\n",
    "#     print(\"l'equation admet une solution unique X:\",-b/2*a)\n",
    "# else:\n",
    "#     print(\"l'equation admet deux solutions \\n x1=\",(-b+math.sqrt(D))/2*a,\"x2=\",(-b-math.sqrt(D))/2*a)\n",
    "\n",
    "def equation(a,b,c):\n",
    "    D=b**2-4*a*c #b**2-4*a*c\n",
    "\n",
    "    if D<0:\n",
    "      print(\"pas de solution reel\")\n",
    "    elif D==0:\n",
    "     print(\"l'equation admet une solution unique X:\",-b/2*a)\n",
    "    else:\n",
    "      x1=(-b+math.sqrt(D))/(2*a)\n",
    "      x2=(-b-math.sqrt(D))/(2*a)\n",
    "      print(\"l'equation admet deux solutions sont :\",x1,x2)\n",
    "        \n",
    "a=int(input(\"saisir a:\"))\n",
    "b=int(input(\"saisir b:\"))\n",
    "c=int(input(\"saisir c:\"))\n",
    "equation(a,b,c)"
   ]
  },
  {
   "cell_type": "code",
   "execution_count": null,
   "id": "96be352e-08a7-4618-a990-fc3739512655",
   "metadata": {},
   "outputs": [],
   "source": []
  }
 ],
 "metadata": {
  "kernelspec": {
   "display_name": "Python 3 (ipykernel)",
   "language": "python",
   "name": "python3"
  },
  "language_info": {
   "codemirror_mode": {
    "name": "ipython",
    "version": 3
   },
   "file_extension": ".py",
   "mimetype": "text/x-python",
   "name": "python",
   "nbconvert_exporter": "python",
   "pygments_lexer": "ipython3",
   "version": "3.11.7"
  }
 },
 "nbformat": 4,
 "nbformat_minor": 5
}
