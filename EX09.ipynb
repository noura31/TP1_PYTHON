{
 "cells": [
  {
   "cell_type": "code",
   "execution_count": 3,
   "id": "19d2f595-fbb3-4fba-9d09-0a5f5966f543",
   "metadata": {},
   "outputs": [
    {
     "name": "stdin",
     "output_type": "stream",
     "text": [
      "saisir un nombre 6\n"
     ]
    },
    {
     "name": "stdout",
     "output_type": "stream",
     "text": [
      "le nombre est parfait\n"
     ]
    }
   ],
   "source": [
    "#exercice9\n",
    "n=int(input(\"saisir un nombre\"))\n",
    "s=0\n",
    "for i in range(1,n // 2 +1,1):\n",
    "   if n%i==0:\n",
    "       s=s+i\n",
    "\n",
    "if s==n:\n",
    "    print(\"le nombre est parfait\")\n",
    "else:\n",
    "   print(\"le nombre n'est pas parfait\")\n"
   ]
  },
  {
   "cell_type": "code",
   "execution_count": null,
   "id": "1e8766e5-80d6-48fa-bc42-0a2480c6252d",
   "metadata": {},
   "outputs": [],
   "source": []
  }
 ],
 "metadata": {
  "kernelspec": {
   "display_name": "Python 3 (ipykernel)",
   "language": "python",
   "name": "python3"
  },
  "language_info": {
   "codemirror_mode": {
    "name": "ipython",
    "version": 3
   },
   "file_extension": ".py",
   "mimetype": "text/x-python",
   "name": "python",
   "nbconvert_exporter": "python",
   "pygments_lexer": "ipython3",
   "version": "3.11.7"
  }
 },
 "nbformat": 4,
 "nbformat_minor": 5
}
