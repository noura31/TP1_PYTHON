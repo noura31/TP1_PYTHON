{
 "cells": [
  {
   "cell_type": "code",
   "execution_count": 1,
   "id": "615448c9-7c56-40be-b73f-2b43c6517d77",
   "metadata": {},
   "outputs": [
    {
     "name": "stdin",
     "output_type": "stream",
     "text": [
      "saisir le premier nombre: 2\n",
      "saisir la deuxieme nombre: 2\n",
      "saisir l'operation: +\n"
     ]
    },
    {
     "name": "stdout",
     "output_type": "stream",
     "text": [
      "a+b= 4\n"
     ]
    }
   ],
   "source": [
    "#exercice5\n",
    "a=int(input(\"saisir le premier nombre:\"))\n",
    "b=int(input(\"saisir la deuxieme nombre:\"))\n",
    "op=str(input(\"saisir l'operation:\"))\n",
    "if op== '+':\n",
    "      print(\"a+b=\",a+b)\n",
    "elif op=='-':\n",
    "     print(\"a-b=\",a-b)\n",
    "elif op=='*':\n",
    "     print(\"a*b=\",a*b)\n",
    "elif op=='/':\n",
    "    if b==0:\n",
    "        print(\"la division impossible\")\n",
    "    else:\n",
    "        print(\"a/b\",a/b)\n",
    "else:\n",
    "    print(\"erreur\")\n"
   ]
  },
  {
   "cell_type": "code",
   "execution_count": null,
   "id": "329991d8-eea3-4367-b861-7cb4b93969dc",
   "metadata": {},
   "outputs": [],
   "source": []
  }
 ],
 "metadata": {
  "kernelspec": {
   "display_name": "Python 3 (ipykernel)",
   "language": "python",
   "name": "python3"
  },
  "language_info": {
   "codemirror_mode": {
    "name": "ipython",
    "version": 3
   },
   "file_extension": ".py",
   "mimetype": "text/x-python",
   "name": "python",
   "nbconvert_exporter": "python",
   "pygments_lexer": "ipython3",
   "version": "3.11.7"
  }
 },
 "nbformat": 4,
 "nbformat_minor": 5
}
