{
 "cells": [
  {
   "cell_type": "code",
   "execution_count": 1,
   "id": "72298232-3eb1-4090-bae7-3c30f1d84277",
   "metadata": {},
   "outputs": [
    {
     "name": "stdin",
     "output_type": "stream",
     "text": [
      "saisir un temp 56263\n"
     ]
    },
    {
     "name": "stdout",
     "output_type": "stream",
     "text": [
      "T= 56263 seconds = 15 H 37 min 43 s\n"
     ]
    }
   ],
   "source": [
    "#exercice3 \n",
    "T=int(input(\"saisir un temp\"))\n",
    "\n",
    "h=T//3600\n",
    "min=(T%3600)//60\n",
    "s=(T%3600)%60\n",
    "\n",
    "print(\"T=\",T,\"seconds =\",h,\"H\",min,\"min\",s,\"s\")"
   ]
  },
  {
   "cell_type": "code",
   "execution_count": null,
   "id": "8847084f-05f8-4cb3-8edb-8524efa49c63",
   "metadata": {},
   "outputs": [],
   "source": []
  }
 ],
 "metadata": {
  "kernelspec": {
   "display_name": "Python 3 (ipykernel)",
   "language": "python",
   "name": "python3"
  },
  "language_info": {
   "codemirror_mode": {
    "name": "ipython",
    "version": 3
   },
   "file_extension": ".py",
   "mimetype": "text/x-python",
   "name": "python",
   "nbconvert_exporter": "python",
   "pygments_lexer": "ipython3",
   "version": "3.11.7"
  }
 },
 "nbformat": 4,
 "nbformat_minor": 5
}
