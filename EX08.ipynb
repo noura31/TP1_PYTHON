{
 "cells": [
  {
   "cell_type": "code",
   "execution_count": 1,
   "id": "64e2b658-6c97-4370-a78d-442487ff000d",
   "metadata": {},
   "outputs": [
    {
     "name": "stdin",
     "output_type": "stream",
     "text": [
      "saisir un nombre 1\n"
     ]
    },
    {
     "name": "stdout",
     "output_type": "stream",
     "text": [
      "11\n"
     ]
    }
   ],
   "source": [
    "#exercice8\n",
    "# n=int(input(\"saisir un nombre\"))\n",
    "# S=0\n",
    "# i=0\n",
    "# while(i<=n):\n",
    "#    S=S+10**i\n",
    "#    i+=1\n",
    "# print(S)\n",
    "\n",
    "n=int(input(\"saisir un nombre\"))\n",
    "s=0\n",
    "for i in range(0,n+1,1):\n",
    "    s=s+10**i\n",
    "print(s)"
   ]
  },
  {
   "cell_type": "code",
   "execution_count": null,
   "id": "54406d8b-75d0-4498-b6ca-aae5871d6dde",
   "metadata": {},
   "outputs": [],
   "source": []
  }
 ],
 "metadata": {
  "kernelspec": {
   "display_name": "Python 3 (ipykernel)",
   "language": "python",
   "name": "python3"
  },
  "language_info": {
   "codemirror_mode": {
    "name": "ipython",
    "version": 3
   },
   "file_extension": ".py",
   "mimetype": "text/x-python",
   "name": "python",
   "nbconvert_exporter": "python",
   "pygments_lexer": "ipython3",
   "version": "3.11.7"
  }
 },
 "nbformat": 4,
 "nbformat_minor": 5
}
