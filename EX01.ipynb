{
 "cells": [
  {
   "cell_type": "code",
   "execution_count": 1,
   "id": "f6ffe0a6-aab6-42e8-a340-dd7e46e7f0fa",
   "metadata": {},
   "outputs": [
    {
     "name": "stdin",
     "output_type": "stream",
     "text": [
      "saisir un note1 11\n",
      "saisir une note2 12\n",
      "saisir une note3 13\n"
     ]
    },
    {
     "name": "stdout",
     "output_type": "stream",
     "text": [
      "le moyenne des notes est 12.0\n",
      "assez bien\n"
     ]
    }
   ],
   "source": [
    "#exercice1\n",
    "# i=0\n",
    "# s=0\n",
    "# while(i<=2):\n",
    "#     a=int(input(\"saisir une note\"))\n",
    "#     if a<=20 and a>=0:\n",
    "#         s+=a\n",
    "#         i+=1\n",
    "# m=s/3\n",
    "# print(\"le moyenne des notes est\",m)\n",
    "# if m>=16:\n",
    "#     print(\"tres bien\")\n",
    "# elif m>=14:\n",
    "#     print(\"bien\")\n",
    "# elif m>=12:\n",
    "#     print(\"assez bien\")\n",
    "# elif m>=10:\n",
    "#     print(\"passable\")\n",
    "# else:\n",
    "#     PRINT(\"insuffissant\")\n",
    "\n",
    "def moyenne(a,b,c):\n",
    "    \n",
    "     m=(a+b+c)/3\n",
    "     print(\"le moyenne des notes est\",m)\n",
    "     if m>=16:\n",
    "      print(\"tres bien\")\n",
    "     elif m>=14:\n",
    "      print(\"bien\")\n",
    "     elif m>=12:\n",
    "      print(\"assez bien\")\n",
    "     elif m>=10:\n",
    "      print(\"passable\")\n",
    "     else:\n",
    "      PRINT(\"insuffissant\")\n",
    "a=int(input(\"saisir un note1\"))\n",
    "b=int(input(\"saisir une note2\"))\n",
    "c=int(input(\"saisir une note3\"))\n",
    "\n",
    "moyenne(a,b,c)"
   ]
  },
  {
   "cell_type": "code",
   "execution_count": null,
   "id": "3a791d58-3ec2-4f5a-9fcc-b7d406e6da94",
   "metadata": {},
   "outputs": [],
   "source": []
  }
 ],
 "metadata": {
  "kernelspec": {
   "display_name": "Python 3 (ipykernel)",
   "language": "python",
   "name": "python3"
  },
  "language_info": {
   "codemirror_mode": {
    "name": "ipython",
    "version": 3
   },
   "file_extension": ".py",
   "mimetype": "text/x-python",
   "name": "python",
   "nbconvert_exporter": "python",
   "pygments_lexer": "ipython3",
   "version": "3.11.7"
  }
 },
 "nbformat": 4,
 "nbformat_minor": 5
}
