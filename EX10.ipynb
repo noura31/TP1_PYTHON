{
 "cells": [
  {
   "cell_type": "code",
   "execution_count": 2,
   "id": "79b60410-1e65-4d7a-9aae-665f5e8aaaeb",
   "metadata": {},
   "outputs": [
    {
     "name": "stdin",
     "output_type": "stream",
     "text": [
      "Entrez l'élément  du tableau :  1\n",
      "Entrez l'élément  du tableau :  2\n",
      "Entrez l'élément  du tableau :  3\n",
      "Entrez l'élément  du tableau :  4\n",
      "Entrez l'élément  du tableau :  5\n",
      "Entrez l'élément  du tableau :  6\n",
      "Entrez l'élément  du tableau :  7\n",
      "Entrez l'élément  du tableau :  8\n",
      "Entrez l'élément  du tableau :  9\n",
      "Entrez l'élément  du tableau :  1\n"
     ]
    },
    {
     "name": "stdout",
     "output_type": "stream",
     "text": [
      "Le tableau n'est pas trié dans l'ordre croissant.\n"
     ]
    }
   ],
   "source": [
    "#exercice10\n",
    "    \n",
    "T = []\n",
    "for i in range(0,10,1):\n",
    "         e= int(input(\"Entrez l'élément  du tableau : \"))\n",
    "         T.append(e)\n",
    "        \n",
    "triecroissant = 1\n",
    "for i in range(0, 9):  \n",
    "    if T[i] >= T[i+1]:\n",
    "        triecroissant = 0\n",
    "        break\n",
    "\n",
    "if triecroissant:\n",
    "    print(\"Le tableau est trié dans l'ordre croissant.\")\n",
    "else:\n",
    "    print(\"Le tableau n'est pas trié dans l'ordre croissant.\")"
   ]
  },
  {
   "cell_type": "code",
   "execution_count": 3,
   "id": "c761a155-e116-4afc-b69d-4f0105dfed7f",
   "metadata": {},
   "outputs": [
    {
     "name": "stdin",
     "output_type": "stream",
     "text": [
      "enter la taille des vecteurs 3\n",
      "Entrez l'élément  du vecteur a :  2\n",
      "Entrez l'élément  du vecteur a :  5\n",
      "Entrez l'élément  du vecteur a :  3\n",
      "Entrez l'élément  du vecteur b :  7\n",
      "Entrez l'élément  du vecteur b :  1\n",
      "Entrez l'élément  du vecteur b :  0\n"
     ]
    },
    {
     "name": "stdout",
     "output_type": "stream",
     "text": [
      "19\n"
     ]
    }
   ],
   "source": [
    "#exercice10_partie2\n",
    "N=10\n",
    "\n",
    "n=int(input(\"enter la taille des vecteurs\"))\n",
    "\n",
    "if n < N:\n",
    " a=[]\n",
    " for i in range(0,n,1):\n",
    "         e= int(input(\"Entrez l'élément  du vecteur a : \"))\n",
    "         a.append(e)\n",
    " b=[]\n",
    " for i in range(0,n,1):\n",
    "         e= int(input(\"Entrez l'élément  du vecteur b : \"))\n",
    "         b.append(e)\n",
    " produitscalaire=0\n",
    " for i in range(0,n,1):\n",
    "   produitscalaire+=a[i]*b[i]\n",
    "\n",
    " print(produitscalaire)"
   ]
  },
  {
   "cell_type": "code",
   "execution_count": null,
   "id": "30b21792-f4ae-4f2d-8687-bcec85053c28",
   "metadata": {},
   "outputs": [],
   "source": []
  }
 ],
 "metadata": {
  "kernelspec": {
   "display_name": "Python 3 (ipykernel)",
   "language": "python",
   "name": "python3"
  },
  "language_info": {
   "codemirror_mode": {
    "name": "ipython",
    "version": 3
   },
   "file_extension": ".py",
   "mimetype": "text/x-python",
   "name": "python",
   "nbconvert_exporter": "python",
   "pygments_lexer": "ipython3",
   "version": "3.11.7"
  }
 },
 "nbformat": 4,
 "nbformat_minor": 5
}
