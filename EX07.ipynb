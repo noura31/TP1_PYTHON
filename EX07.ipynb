{
 "cells": [
  {
   "cell_type": "code",
   "execution_count": 2,
   "id": "6c4a7621-abf2-4d2f-ac41-6519977b6f24",
   "metadata": {},
   "outputs": [
    {
     "name": "stdin",
     "output_type": "stream",
     "text": [
      "saisir un nombre 3\n"
     ]
    },
    {
     "name": "stdout",
     "output_type": "stream",
     "text": [
      "14\n"
     ]
    }
   ],
   "source": [
    "#exercice7\n",
    "# n=int(input(\"saisir un nombre\"))\n",
    "# i=1\n",
    "# S=0\n",
    "# while(i<=n):\n",
    "#     S=S+i*i\n",
    "#     i+=1\n",
    "# print(S)\n",
    "\n",
    "n=int(input(\"saisir un nombre\"))\n",
    "S=0\n",
    "for i in range(1,n+1,1):\n",
    "    S=S+i*i\n",
    "print(S)"
   ]
  },
  {
   "cell_type": "code",
   "execution_count": null,
   "id": "512eb0fc-488f-4015-93ae-70d8f7266872",
   "metadata": {},
   "outputs": [],
   "source": []
  }
 ],
 "metadata": {
  "kernelspec": {
   "display_name": "Python 3 (ipykernel)",
   "language": "python",
   "name": "python3"
  },
  "language_info": {
   "codemirror_mode": {
    "name": "ipython",
    "version": 3
   },
   "file_extension": ".py",
   "mimetype": "text/x-python",
   "name": "python",
   "nbconvert_exporter": "python",
   "pygments_lexer": "ipython3",
   "version": "3.11.7"
  }
 },
 "nbformat": 4,
 "nbformat_minor": 5
}
